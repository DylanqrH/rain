{
 "cells": [
  {
   "cell_type": "code",
   "execution_count": 1,
   "metadata": {},
   "outputs": [
    {
     "name": "stderr",
     "output_type": "stream",
     "text": [
      "── \u001b[1mAttaching packages\u001b[22m ─────────────────────────────────────── tidyverse 1.3.0 ──\n",
      "\n",
      "\u001b[32m✔\u001b[39m \u001b[34mggplot2\u001b[39m 3.3.2     \u001b[32m✔\u001b[39m \u001b[34mpurrr  \u001b[39m 0.3.4\n",
      "\u001b[32m✔\u001b[39m \u001b[34mtibble \u001b[39m 3.0.3     \u001b[32m✔\u001b[39m \u001b[34mdplyr  \u001b[39m 1.0.2\n",
      "\u001b[32m✔\u001b[39m \u001b[34mtidyr  \u001b[39m 1.1.2     \u001b[32m✔\u001b[39m \u001b[34mstringr\u001b[39m 1.4.0\n",
      "\u001b[32m✔\u001b[39m \u001b[34mreadr  \u001b[39m 1.3.1     \u001b[32m✔\u001b[39m \u001b[34mforcats\u001b[39m 0.5.0\n",
      "\n",
      "Warning message:\n",
      "“package ‘ggplot2’ was built under R version 4.0.1”\n",
      "Warning message:\n",
      "“package ‘tibble’ was built under R version 4.0.2”\n",
      "Warning message:\n",
      "“package ‘tidyr’ was built under R version 4.0.2”\n",
      "Warning message:\n",
      "“package ‘dplyr’ was built under R version 4.0.2”\n",
      "── \u001b[1mConflicts\u001b[22m ────────────────────────────────────────── tidyverse_conflicts() ──\n",
      "\u001b[31m✖\u001b[39m \u001b[34mdplyr\u001b[39m::\u001b[32mfilter()\u001b[39m masks \u001b[34mstats\u001b[39m::filter()\n",
      "\u001b[31m✖\u001b[39m \u001b[34mdplyr\u001b[39m::\u001b[32mlag()\u001b[39m    masks \u001b[34mstats\u001b[39m::lag()\n",
      "\n",
      "Warning message:\n",
      "“package ‘tidymodels’ was built under R version 4.0.2”\n",
      "── \u001b[1mAttaching packages\u001b[22m ────────────────────────────────────── tidymodels 0.1.1 ──\n",
      "\n",
      "\u001b[32m✔\u001b[39m \u001b[34mbroom    \u001b[39m 0.7.0      \u001b[32m✔\u001b[39m \u001b[34mrecipes  \u001b[39m 0.1.13\n",
      "\u001b[32m✔\u001b[39m \u001b[34mdials    \u001b[39m 0.0.9      \u001b[32m✔\u001b[39m \u001b[34mrsample  \u001b[39m 0.0.7 \n",
      "\u001b[32m✔\u001b[39m \u001b[34minfer    \u001b[39m 0.5.4      \u001b[32m✔\u001b[39m \u001b[34mtune     \u001b[39m 0.1.1 \n",
      "\u001b[32m✔\u001b[39m \u001b[34mmodeldata\u001b[39m 0.0.2      \u001b[32m✔\u001b[39m \u001b[34mworkflows\u001b[39m 0.2.0 \n",
      "\u001b[32m✔\u001b[39m \u001b[34mparsnip  \u001b[39m 0.1.3      \u001b[32m✔\u001b[39m \u001b[34myardstick\u001b[39m 0.0.7 \n",
      "\n",
      "Warning message:\n",
      "“package ‘broom’ was built under R version 4.0.2”\n",
      "Warning message:\n",
      "“package ‘dials’ was built under R version 4.0.2”\n",
      "Warning message:\n",
      "“package ‘infer’ was built under R version 4.0.3”\n",
      "Warning message:\n",
      "“package ‘modeldata’ was built under R version 4.0.1”\n",
      "Warning message:\n",
      "“package ‘parsnip’ was built under R version 4.0.2”\n",
      "Warning message:\n",
      "“package ‘recipes’ was built under R version 4.0.1”\n",
      "Warning message:\n",
      "“package ‘tune’ was built under R version 4.0.2”\n",
      "Warning message:\n",
      "“package ‘workflows’ was built under R version 4.0.2”\n",
      "Warning message:\n",
      "“package ‘yardstick’ was built under R version 4.0.2”\n",
      "── \u001b[1mConflicts\u001b[22m ───────────────────────────────────────── tidymodels_conflicts() ──\n",
      "\u001b[31m✖\u001b[39m \u001b[34mscales\u001b[39m::\u001b[32mdiscard()\u001b[39m masks \u001b[34mpurrr\u001b[39m::discard()\n",
      "\u001b[31m✖\u001b[39m \u001b[34mdplyr\u001b[39m::\u001b[32mfilter()\u001b[39m   masks \u001b[34mstats\u001b[39m::filter()\n",
      "\u001b[31m✖\u001b[39m \u001b[34mrecipes\u001b[39m::\u001b[32mfixed()\u001b[39m  masks \u001b[34mstringr\u001b[39m::fixed()\n",
      "\u001b[31m✖\u001b[39m \u001b[34mdplyr\u001b[39m::\u001b[32mlag()\u001b[39m      masks \u001b[34mstats\u001b[39m::lag()\n",
      "\u001b[31m✖\u001b[39m \u001b[34myardstick\u001b[39m::\u001b[32mspec()\u001b[39m masks \u001b[34mreadr\u001b[39m::spec()\n",
      "\u001b[31m✖\u001b[39m \u001b[34mrecipes\u001b[39m::\u001b[32mstep()\u001b[39m   masks \u001b[34mstats\u001b[39m::step()\n",
      "\n"
     ]
    }
   ],
   "source": [
    "library(tidyverse)\n",
    "library(repr)\n",
    "library(tidymodels)\n",
    "options(repr.matrix.max.rows = 6)"
   ]
  },
  {
   "cell_type": "code",
   "execution_count": 37,
   "metadata": {},
   "outputs": [
    {
     "name": "stderr",
     "output_type": "stream",
     "text": [
      "Parsed with column specification:\n",
      "cols(\n",
      "  .default = col_double(),\n",
      "  Date = \u001b[34mcol_date(format = \"\")\u001b[39m,\n",
      "  Location = \u001b[31mcol_character()\u001b[39m,\n",
      "  WindGustDir = \u001b[31mcol_character()\u001b[39m,\n",
      "  WindDir9am = \u001b[31mcol_character()\u001b[39m,\n",
      "  WindDir3pm = \u001b[31mcol_character()\u001b[39m,\n",
      "  RainToday = \u001b[31mcol_character()\u001b[39m,\n",
      "  RainTomorrow = \u001b[31mcol_character()\u001b[39m\n",
      ")\n",
      "\n",
      "See spec(...) for full column specifications.\n",
      "\n"
     ]
    },
    {
     "data": {
      "text/html": [
       "<table>\n",
       "<caption>A spec_tbl_df: 145460 × 23</caption>\n",
       "<thead>\n",
       "\t<tr><th scope=col>Date</th><th scope=col>Location</th><th scope=col>MinTemp</th><th scope=col>MaxTemp</th><th scope=col>Rainfall</th><th scope=col>Evaporation</th><th scope=col>Sunshine</th><th scope=col>WindGustDir</th><th scope=col>WindGustSpeed</th><th scope=col>WindDir9am</th><th scope=col>⋯</th><th scope=col>Humidity9am</th><th scope=col>Humidity3pm</th><th scope=col>Pressure9am</th><th scope=col>Pressure3pm</th><th scope=col>Cloud9am</th><th scope=col>Cloud3pm</th><th scope=col>Temp9am</th><th scope=col>Temp3pm</th><th scope=col>RainToday</th><th scope=col>RainTomorrow</th></tr>\n",
       "\t<tr><th scope=col>&lt;date&gt;</th><th scope=col>&lt;chr&gt;</th><th scope=col>&lt;dbl&gt;</th><th scope=col>&lt;dbl&gt;</th><th scope=col>&lt;dbl&gt;</th><th scope=col>&lt;dbl&gt;</th><th scope=col>&lt;dbl&gt;</th><th scope=col>&lt;chr&gt;</th><th scope=col>&lt;dbl&gt;</th><th scope=col>&lt;chr&gt;</th><th scope=col>⋯</th><th scope=col>&lt;dbl&gt;</th><th scope=col>&lt;dbl&gt;</th><th scope=col>&lt;dbl&gt;</th><th scope=col>&lt;dbl&gt;</th><th scope=col>&lt;dbl&gt;</th><th scope=col>&lt;dbl&gt;</th><th scope=col>&lt;dbl&gt;</th><th scope=col>&lt;dbl&gt;</th><th scope=col>&lt;chr&gt;</th><th scope=col>&lt;chr&gt;</th></tr>\n",
       "</thead>\n",
       "<tbody>\n",
       "\t<tr><td>2008-12-01</td><td>Albury</td><td>13.4</td><td>22.9</td><td>0.6</td><td>NA</td><td>NA</td><td>W  </td><td>44</td><td>W  </td><td>⋯</td><td>71</td><td>22</td><td>1007.7</td><td>1007.1</td><td> 8</td><td>NA</td><td>16.9</td><td>21.8</td><td>No</td><td>No</td></tr>\n",
       "\t<tr><td>2008-12-02</td><td>Albury</td><td> 7.4</td><td>25.1</td><td>0.0</td><td>NA</td><td>NA</td><td>WNW</td><td>44</td><td>NNW</td><td>⋯</td><td>44</td><td>25</td><td>1010.6</td><td>1007.8</td><td>NA</td><td>NA</td><td>17.2</td><td>24.3</td><td>No</td><td>No</td></tr>\n",
       "\t<tr><td>2008-12-03</td><td>Albury</td><td>12.9</td><td>25.7</td><td>0.0</td><td>NA</td><td>NA</td><td>WSW</td><td>46</td><td>W  </td><td>⋯</td><td>38</td><td>30</td><td>1007.6</td><td>1008.7</td><td>NA</td><td> 2</td><td>21.0</td><td>23.2</td><td>No</td><td>No</td></tr>\n",
       "\t<tr><td>⋮</td><td>⋮</td><td>⋮</td><td>⋮</td><td>⋮</td><td>⋮</td><td>⋮</td><td>⋮</td><td>⋮</td><td>⋮</td><td>⋱</td><td>⋮</td><td>⋮</td><td>⋮</td><td>⋮</td><td>⋮</td><td>⋮</td><td>⋮</td><td>⋮</td><td>⋮</td><td>⋮</td></tr>\n",
       "\t<tr><td>2017-06-23</td><td>Uluru</td><td> 5.4</td><td>26.9</td><td>0</td><td>NA</td><td>NA</td><td>N </td><td>37</td><td>SE </td><td>⋯</td><td>53</td><td>24</td><td>1021.0</td><td>1016.8</td><td>NA</td><td>NA</td><td>12.5</td><td>26.1</td><td>No</td><td>No</td></tr>\n",
       "\t<tr><td>2017-06-24</td><td>Uluru</td><td> 7.8</td><td>27.0</td><td>0</td><td>NA</td><td>NA</td><td>SE</td><td>28</td><td>SSE</td><td>⋯</td><td>51</td><td>24</td><td>1019.4</td><td>1016.5</td><td> 3</td><td> 2</td><td>15.1</td><td>26.0</td><td>No</td><td>No</td></tr>\n",
       "\t<tr><td>2017-06-25</td><td>Uluru</td><td>14.9</td><td>  NA</td><td>0</td><td>NA</td><td>NA</td><td>NA</td><td>NA</td><td>ESE</td><td>⋯</td><td>62</td><td>36</td><td>1020.2</td><td>1017.9</td><td> 8</td><td> 8</td><td>15.0</td><td>20.9</td><td>No</td><td>NA</td></tr>\n",
       "</tbody>\n",
       "</table>\n"
      ],
      "text/latex": [
       "A spec\\_tbl\\_df: 145460 × 23\n",
       "\\begin{tabular}{lllllllllllllllllllll}\n",
       " Date & Location & MinTemp & MaxTemp & Rainfall & Evaporation & Sunshine & WindGustDir & WindGustSpeed & WindDir9am & ⋯ & Humidity9am & Humidity3pm & Pressure9am & Pressure3pm & Cloud9am & Cloud3pm & Temp9am & Temp3pm & RainToday & RainTomorrow\\\\\n",
       " <date> & <chr> & <dbl> & <dbl> & <dbl> & <dbl> & <dbl> & <chr> & <dbl> & <chr> & ⋯ & <dbl> & <dbl> & <dbl> & <dbl> & <dbl> & <dbl> & <dbl> & <dbl> & <chr> & <chr>\\\\\n",
       "\\hline\n",
       "\t 2008-12-01 & Albury & 13.4 & 22.9 & 0.6 & NA & NA & W   & 44 & W   & ⋯ & 71 & 22 & 1007.7 & 1007.1 &  8 & NA & 16.9 & 21.8 & No & No\\\\\n",
       "\t 2008-12-02 & Albury &  7.4 & 25.1 & 0.0 & NA & NA & WNW & 44 & NNW & ⋯ & 44 & 25 & 1010.6 & 1007.8 & NA & NA & 17.2 & 24.3 & No & No\\\\\n",
       "\t 2008-12-03 & Albury & 12.9 & 25.7 & 0.0 & NA & NA & WSW & 46 & W   & ⋯ & 38 & 30 & 1007.6 & 1008.7 & NA &  2 & 21.0 & 23.2 & No & No\\\\\n",
       "\t ⋮ & ⋮ & ⋮ & ⋮ & ⋮ & ⋮ & ⋮ & ⋮ & ⋮ & ⋮ & ⋱ & ⋮ & ⋮ & ⋮ & ⋮ & ⋮ & ⋮ & ⋮ & ⋮ & ⋮ & ⋮\\\\\n",
       "\t 2017-06-23 & Uluru &  5.4 & 26.9 & 0 & NA & NA & N  & 37 & SE  & ⋯ & 53 & 24 & 1021.0 & 1016.8 & NA & NA & 12.5 & 26.1 & No & No\\\\\n",
       "\t 2017-06-24 & Uluru &  7.8 & 27.0 & 0 & NA & NA & SE & 28 & SSE & ⋯ & 51 & 24 & 1019.4 & 1016.5 &  3 &  2 & 15.1 & 26.0 & No & No\\\\\n",
       "\t 2017-06-25 & Uluru & 14.9 &   NA & 0 & NA & NA & NA & NA & ESE & ⋯ & 62 & 36 & 1020.2 & 1017.9 &  8 &  8 & 15.0 & 20.9 & No & NA\\\\\n",
       "\\end{tabular}\n"
      ],
      "text/markdown": [
       "\n",
       "A spec_tbl_df: 145460 × 23\n",
       "\n",
       "| Date &lt;date&gt; | Location &lt;chr&gt; | MinTemp &lt;dbl&gt; | MaxTemp &lt;dbl&gt; | Rainfall &lt;dbl&gt; | Evaporation &lt;dbl&gt; | Sunshine &lt;dbl&gt; | WindGustDir &lt;chr&gt; | WindGustSpeed &lt;dbl&gt; | WindDir9am &lt;chr&gt; | ⋯ ⋯ | Humidity9am &lt;dbl&gt; | Humidity3pm &lt;dbl&gt; | Pressure9am &lt;dbl&gt; | Pressure3pm &lt;dbl&gt; | Cloud9am &lt;dbl&gt; | Cloud3pm &lt;dbl&gt; | Temp9am &lt;dbl&gt; | Temp3pm &lt;dbl&gt; | RainToday &lt;chr&gt; | RainTomorrow &lt;chr&gt; |\n",
       "|---|---|---|---|---|---|---|---|---|---|---|---|---|---|---|---|---|---|---|---|---|\n",
       "| 2008-12-01 | Albury | 13.4 | 22.9 | 0.6 | NA | NA | W   | 44 | W   | ⋯ | 71 | 22 | 1007.7 | 1007.1 |  8 | NA | 16.9 | 21.8 | No | No |\n",
       "| 2008-12-02 | Albury |  7.4 | 25.1 | 0.0 | NA | NA | WNW | 44 | NNW | ⋯ | 44 | 25 | 1010.6 | 1007.8 | NA | NA | 17.2 | 24.3 | No | No |\n",
       "| 2008-12-03 | Albury | 12.9 | 25.7 | 0.0 | NA | NA | WSW | 46 | W   | ⋯ | 38 | 30 | 1007.6 | 1008.7 | NA |  2 | 21.0 | 23.2 | No | No |\n",
       "| ⋮ | ⋮ | ⋮ | ⋮ | ⋮ | ⋮ | ⋮ | ⋮ | ⋮ | ⋮ | ⋱ | ⋮ | ⋮ | ⋮ | ⋮ | ⋮ | ⋮ | ⋮ | ⋮ | ⋮ | ⋮ |\n",
       "| 2017-06-23 | Uluru |  5.4 | 26.9 | 0 | NA | NA | N  | 37 | SE  | ⋯ | 53 | 24 | 1021.0 | 1016.8 | NA | NA | 12.5 | 26.1 | No | No |\n",
       "| 2017-06-24 | Uluru |  7.8 | 27.0 | 0 | NA | NA | SE | 28 | SSE | ⋯ | 51 | 24 | 1019.4 | 1016.5 |  3 |  2 | 15.1 | 26.0 | No | No |\n",
       "| 2017-06-25 | Uluru | 14.9 |   NA | 0 | NA | NA | NA | NA | ESE | ⋯ | 62 | 36 | 1020.2 | 1017.9 |  8 |  8 | 15.0 | 20.9 | No | NA |\n",
       "\n"
      ],
      "text/plain": [
       "       Date       Location MinTemp MaxTemp Rainfall Evaporation Sunshine\n",
       "1      2008-12-01 Albury   13.4    22.9    0.6      NA          NA      \n",
       "2      2008-12-02 Albury    7.4    25.1    0.0      NA          NA      \n",
       "3      2008-12-03 Albury   12.9    25.7    0.0      NA          NA      \n",
       "⋮      ⋮          ⋮        ⋮       ⋮       ⋮        ⋮           ⋮       \n",
       "145458 2017-06-23 Uluru     5.4    26.9    0        NA          NA      \n",
       "145459 2017-06-24 Uluru     7.8    27.0    0        NA          NA      \n",
       "145460 2017-06-25 Uluru    14.9      NA    0        NA          NA      \n",
       "       WindGustDir WindGustSpeed WindDir9am ⋯ Humidity9am Humidity3pm\n",
       "1      W           44            W          ⋯ 71          22         \n",
       "2      WNW         44            NNW        ⋯ 44          25         \n",
       "3      WSW         46            W          ⋯ 38          30         \n",
       "⋮      ⋮           ⋮             ⋮          ⋱ ⋮           ⋮          \n",
       "145458 N           37            SE         ⋯ 53          24         \n",
       "145459 SE          28            SSE        ⋯ 51          24         \n",
       "145460 NA          NA            ESE        ⋯ 62          36         \n",
       "       Pressure9am Pressure3pm Cloud9am Cloud3pm Temp9am Temp3pm RainToday\n",
       "1      1007.7      1007.1       8       NA       16.9    21.8    No       \n",
       "2      1010.6      1007.8      NA       NA       17.2    24.3    No       \n",
       "3      1007.6      1008.7      NA        2       21.0    23.2    No       \n",
       "⋮      ⋮           ⋮           ⋮        ⋮        ⋮       ⋮       ⋮        \n",
       "145458 1021.0      1016.8      NA       NA       12.5    26.1    No       \n",
       "145459 1019.4      1016.5       3        2       15.1    26.0    No       \n",
       "145460 1020.2      1017.9       8        8       15.0    20.9    No       \n",
       "       RainTomorrow\n",
       "1      No          \n",
       "2      No          \n",
       "3      No          \n",
       "⋮      ⋮           \n",
       "145458 No          \n",
       "145459 No          \n",
       "145460 NA          "
      ]
     },
     "metadata": {},
     "output_type": "display_data"
    }
   ],
   "source": [
    "weather <- read_csv(\"https://raw.githubusercontent.com/DylanqrH/rain/main/weatherAUS.csv\", guess_max = 10000)\n",
    "weather"
   ]
  },
  {
   "cell_type": "code",
   "execution_count": 38,
   "metadata": {},
   "outputs": [
    {
     "data": {
      "text/html": [
       "<table>\n",
       "<caption>A tibble: 3132 × 9</caption>\n",
       "<thead>\n",
       "\t<tr><th scope=col>Evaporation</th><th scope=col>Sunshine</th><th scope=col>WindSpeed9am</th><th scope=col>Humidity3pm</th><th scope=col>Pressure3pm</th><th scope=col>Rainfall</th><th scope=col>MinTemp</th><th scope=col>MaxTemp</th><th scope=col>RainTomorrow</th></tr>\n",
       "\t<tr><th scope=col>&lt;dbl&gt;</th><th scope=col>&lt;dbl&gt;</th><th scope=col>&lt;dbl&gt;</th><th scope=col>&lt;dbl&gt;</th><th scope=col>&lt;dbl&gt;</th><th scope=col>&lt;dbl&gt;</th><th scope=col>&lt;dbl&gt;</th><th scope=col>&lt;dbl&gt;</th><th scope=col>&lt;fct&gt;</th></tr>\n",
       "</thead>\n",
       "<tbody>\n",
       "\t<tr><td>4.4</td><td>11.0</td><td>13</td><td>32</td><td>1012.1</td><td>0</td><td>20.0</td><td>33.1</td><td>No</td></tr>\n",
       "\t<tr><td>6.0</td><td>10.4</td><td>15</td><td>17</td><td>1012.4</td><td>0</td><td>19.4</td><td>32.4</td><td>No</td></tr>\n",
       "\t<tr><td>8.0</td><td>11.0</td><td>22</td><td>24</td><td>1013.0</td><td>0</td><td>18.2</td><td>31.8</td><td>No</td></tr>\n",
       "\t<tr><td>⋮</td><td>⋮</td><td>⋮</td><td>⋮</td><td>⋮</td><td>⋮</td><td>⋮</td><td>⋮</td><td>⋮</td></tr>\n",
       "\t<tr><td>5.6</td><td>11.0</td><td>17</td><td>23</td><td>1011.8</td><td>0</td><td>20.7</td><td>32.8</td><td>No</td></tr>\n",
       "\t<tr><td>6.2</td><td>10.6</td><td> 9</td><td>58</td><td>1010.7</td><td>0</td><td>19.5</td><td>31.8</td><td>No</td></tr>\n",
       "\t<tr><td>5.6</td><td>10.7</td><td>15</td><td>32</td><td>1009.7</td><td>0</td><td>20.2</td><td>31.7</td><td>No</td></tr>\n",
       "</tbody>\n",
       "</table>\n"
      ],
      "text/latex": [
       "A tibble: 3132 × 9\n",
       "\\begin{tabular}{lllllllll}\n",
       " Evaporation & Sunshine & WindSpeed9am & Humidity3pm & Pressure3pm & Rainfall & MinTemp & MaxTemp & RainTomorrow\\\\\n",
       " <dbl> & <dbl> & <dbl> & <dbl> & <dbl> & <dbl> & <dbl> & <dbl> & <fct>\\\\\n",
       "\\hline\n",
       "\t 4.4 & 11.0 & 13 & 32 & 1012.1 & 0 & 20.0 & 33.1 & No\\\\\n",
       "\t 6.0 & 10.4 & 15 & 17 & 1012.4 & 0 & 19.4 & 32.4 & No\\\\\n",
       "\t 8.0 & 11.0 & 22 & 24 & 1013.0 & 0 & 18.2 & 31.8 & No\\\\\n",
       "\t ⋮ & ⋮ & ⋮ & ⋮ & ⋮ & ⋮ & ⋮ & ⋮ & ⋮\\\\\n",
       "\t 5.6 & 11.0 & 17 & 23 & 1011.8 & 0 & 20.7 & 32.8 & No\\\\\n",
       "\t 6.2 & 10.6 &  9 & 58 & 1010.7 & 0 & 19.5 & 31.8 & No\\\\\n",
       "\t 5.6 & 10.7 & 15 & 32 & 1009.7 & 0 & 20.2 & 31.7 & No\\\\\n",
       "\\end{tabular}\n"
      ],
      "text/markdown": [
       "\n",
       "A tibble: 3132 × 9\n",
       "\n",
       "| Evaporation &lt;dbl&gt; | Sunshine &lt;dbl&gt; | WindSpeed9am &lt;dbl&gt; | Humidity3pm &lt;dbl&gt; | Pressure3pm &lt;dbl&gt; | Rainfall &lt;dbl&gt; | MinTemp &lt;dbl&gt; | MaxTemp &lt;dbl&gt; | RainTomorrow &lt;fct&gt; |\n",
       "|---|---|---|---|---|---|---|---|---|\n",
       "| 4.4 | 11.0 | 13 | 32 | 1012.1 | 0 | 20.0 | 33.1 | No |\n",
       "| 6.0 | 10.4 | 15 | 17 | 1012.4 | 0 | 19.4 | 32.4 | No |\n",
       "| 8.0 | 11.0 | 22 | 24 | 1013.0 | 0 | 18.2 | 31.8 | No |\n",
       "| ⋮ | ⋮ | ⋮ | ⋮ | ⋮ | ⋮ | ⋮ | ⋮ | ⋮ |\n",
       "| 5.6 | 11.0 | 17 | 23 | 1011.8 | 0 | 20.7 | 32.8 | No |\n",
       "| 6.2 | 10.6 |  9 | 58 | 1010.7 | 0 | 19.5 | 31.8 | No |\n",
       "| 5.6 | 10.7 | 15 | 32 | 1009.7 | 0 | 20.2 | 31.7 | No |\n",
       "\n"
      ],
      "text/plain": [
       "     Evaporation Sunshine WindSpeed9am Humidity3pm Pressure3pm Rainfall MinTemp\n",
       "1    4.4         11.0     13           32          1012.1      0        20.0   \n",
       "2    6.0         10.4     15           17          1012.4      0        19.4   \n",
       "3    8.0         11.0     22           24          1013.0      0        18.2   \n",
       "⋮    ⋮           ⋮        ⋮            ⋮           ⋮           ⋮        ⋮      \n",
       "3130 5.6         11.0     17           23          1011.8      0        20.7   \n",
       "3131 6.2         10.6      9           58          1010.7      0        19.5   \n",
       "3132 5.6         10.7     15           32          1009.7      0        20.2   \n",
       "     MaxTemp RainTomorrow\n",
       "1    33.1    No          \n",
       "2    32.4    No          \n",
       "3    31.8    No          \n",
       "⋮    ⋮       ⋮           \n",
       "3130 32.8    No          \n",
       "3131 31.8    No          \n",
       "3132 31.7    No          "
      ]
     },
     "metadata": {},
     "output_type": "display_data"
    }
   ],
   "source": [
    "weather_Darwin <- weather %>%\n",
    "                  filter(Location == \"Darwin\") %>%\n",
    "                  select(Evaporation, Sunshine, WindSpeed9am, Humidity3pm, Pressure3pm, Rainfall, MinTemp, MaxTemp, RainTomorrow) %>%\n",
    "                  mutate(RainTomorrow = as.factor(RainTomorrow)) %>%\n",
    "                  drop_na()\n",
    "weather_Darwin"
   ]
  },
  {
   "cell_type": "code",
   "execution_count": 39,
   "metadata": {},
   "outputs": [
    {
     "data": {
      "text/html": [
       "<table>\n",
       "<caption>A tibble: 6 × 9</caption>\n",
       "<thead>\n",
       "\t<tr><th scope=col>Evaporation</th><th scope=col>Sunshine</th><th scope=col>WindSpeed9am</th><th scope=col>Humidity3pm</th><th scope=col>Pressure3pm</th><th scope=col>Rainfall</th><th scope=col>MinTemp</th><th scope=col>MaxTemp</th><th scope=col>RainTomorrow</th></tr>\n",
       "\t<tr><th scope=col>&lt;dbl&gt;</th><th scope=col>&lt;dbl&gt;</th><th scope=col>&lt;dbl&gt;</th><th scope=col>&lt;dbl&gt;</th><th scope=col>&lt;dbl&gt;</th><th scope=col>&lt;dbl&gt;</th><th scope=col>&lt;dbl&gt;</th><th scope=col>&lt;dbl&gt;</th><th scope=col>&lt;fct&gt;</th></tr>\n",
       "</thead>\n",
       "<tbody>\n",
       "\t<tr><td>4.4</td><td>11.0</td><td>13</td><td>32</td><td>1012.1</td><td>0</td><td>20.0</td><td>33.1</td><td>No</td></tr>\n",
       "\t<tr><td>8.0</td><td>11.0</td><td>22</td><td>24</td><td>1013.0</td><td>0</td><td>18.2</td><td>31.8</td><td>No</td></tr>\n",
       "\t<tr><td>7.0</td><td>10.4</td><td>22</td><td>16</td><td>1013.6</td><td>0</td><td>17.3</td><td>30.7</td><td>No</td></tr>\n",
       "\t<tr><td>7.0</td><td>10.8</td><td>20</td><td>16</td><td>1012.6</td><td>0</td><td>15.5</td><td>30.8</td><td>No</td></tr>\n",
       "\t<tr><td>9.2</td><td>10.6</td><td>20</td><td>12</td><td>1014.6</td><td>0</td><td>19.6</td><td>30.8</td><td>No</td></tr>\n",
       "\t<tr><td>9.6</td><td>10.6</td><td>31</td><td>15</td><td>1015.2</td><td>0</td><td>17.3</td><td>29.2</td><td>No</td></tr>\n",
       "</tbody>\n",
       "</table>\n"
      ],
      "text/latex": [
       "A tibble: 6 × 9\n",
       "\\begin{tabular}{lllllllll}\n",
       " Evaporation & Sunshine & WindSpeed9am & Humidity3pm & Pressure3pm & Rainfall & MinTemp & MaxTemp & RainTomorrow\\\\\n",
       " <dbl> & <dbl> & <dbl> & <dbl> & <dbl> & <dbl> & <dbl> & <dbl> & <fct>\\\\\n",
       "\\hline\n",
       "\t 4.4 & 11.0 & 13 & 32 & 1012.1 & 0 & 20.0 & 33.1 & No\\\\\n",
       "\t 8.0 & 11.0 & 22 & 24 & 1013.0 & 0 & 18.2 & 31.8 & No\\\\\n",
       "\t 7.0 & 10.4 & 22 & 16 & 1013.6 & 0 & 17.3 & 30.7 & No\\\\\n",
       "\t 7.0 & 10.8 & 20 & 16 & 1012.6 & 0 & 15.5 & 30.8 & No\\\\\n",
       "\t 9.2 & 10.6 & 20 & 12 & 1014.6 & 0 & 19.6 & 30.8 & No\\\\\n",
       "\t 9.6 & 10.6 & 31 & 15 & 1015.2 & 0 & 17.3 & 29.2 & No\\\\\n",
       "\\end{tabular}\n"
      ],
      "text/markdown": [
       "\n",
       "A tibble: 6 × 9\n",
       "\n",
       "| Evaporation &lt;dbl&gt; | Sunshine &lt;dbl&gt; | WindSpeed9am &lt;dbl&gt; | Humidity3pm &lt;dbl&gt; | Pressure3pm &lt;dbl&gt; | Rainfall &lt;dbl&gt; | MinTemp &lt;dbl&gt; | MaxTemp &lt;dbl&gt; | RainTomorrow &lt;fct&gt; |\n",
       "|---|---|---|---|---|---|---|---|---|\n",
       "| 4.4 | 11.0 | 13 | 32 | 1012.1 | 0 | 20.0 | 33.1 | No |\n",
       "| 8.0 | 11.0 | 22 | 24 | 1013.0 | 0 | 18.2 | 31.8 | No |\n",
       "| 7.0 | 10.4 | 22 | 16 | 1013.6 | 0 | 17.3 | 30.7 | No |\n",
       "| 7.0 | 10.8 | 20 | 16 | 1012.6 | 0 | 15.5 | 30.8 | No |\n",
       "| 9.2 | 10.6 | 20 | 12 | 1014.6 | 0 | 19.6 | 30.8 | No |\n",
       "| 9.6 | 10.6 | 31 | 15 | 1015.2 | 0 | 17.3 | 29.2 | No |\n",
       "\n"
      ],
      "text/plain": [
       "  Evaporation Sunshine WindSpeed9am Humidity3pm Pressure3pm Rainfall MinTemp\n",
       "1 4.4         11.0     13           32          1012.1      0        20.0   \n",
       "2 8.0         11.0     22           24          1013.0      0        18.2   \n",
       "3 7.0         10.4     22           16          1013.6      0        17.3   \n",
       "4 7.0         10.8     20           16          1012.6      0        15.5   \n",
       "5 9.2         10.6     20           12          1014.6      0        19.6   \n",
       "6 9.6         10.6     31           15          1015.2      0        17.3   \n",
       "  MaxTemp RainTomorrow\n",
       "1 33.1    No          \n",
       "2 31.8    No          \n",
       "3 30.7    No          \n",
       "4 30.8    No          \n",
       "5 30.8    No          \n",
       "6 29.2    No          "
      ]
     },
     "metadata": {},
     "output_type": "display_data"
    }
   ],
   "source": [
    "set.seed(999)\n",
    "weather_split <- initial_split(weather_Darwin, prop = 0.75, strata = RainTomorrow)  \n",
    "weather_train <- training(weather_split)   \n",
    "weather_test <- testing(weather_split)\n",
    "head(weather_train)"
   ]
  },
  {
   "cell_type": "code",
   "execution_count": 40,
   "metadata": {},
   "outputs": [
    {
     "data": {
      "text/html": [
       "<table>\n",
       "<caption>A tibble: 11 × 1</caption>\n",
       "<thead>\n",
       "\t<tr><th scope=col>neighbors</th></tr>\n",
       "\t<tr><th scope=col>&lt;dbl&gt;</th></tr>\n",
       "</thead>\n",
       "<tbody>\n",
       "\t<tr><td> 1</td></tr>\n",
       "\t<tr><td> 6</td></tr>\n",
       "\t<tr><td>11</td></tr>\n",
       "\t<tr><td>⋮</td></tr>\n",
       "\t<tr><td>41</td></tr>\n",
       "\t<tr><td>46</td></tr>\n",
       "\t<tr><td>51</td></tr>\n",
       "</tbody>\n",
       "</table>\n"
      ],
      "text/latex": [
       "A tibble: 11 × 1\n",
       "\\begin{tabular}{l}\n",
       " neighbors\\\\\n",
       " <dbl>\\\\\n",
       "\\hline\n",
       "\t  1\\\\\n",
       "\t  6\\\\\n",
       "\t 11\\\\\n",
       "\t ⋮\\\\\n",
       "\t 41\\\\\n",
       "\t 46\\\\\n",
       "\t 51\\\\\n",
       "\\end{tabular}\n"
      ],
      "text/markdown": [
       "\n",
       "A tibble: 11 × 1\n",
       "\n",
       "| neighbors &lt;dbl&gt; |\n",
       "|---|\n",
       "|  1 |\n",
       "|  6 |\n",
       "| 11 |\n",
       "| ⋮ |\n",
       "| 41 |\n",
       "| 46 |\n",
       "| 51 |\n",
       "\n"
      ],
      "text/plain": [
       "   neighbors\n",
       "1   1       \n",
       "2   6       \n",
       "3  11       \n",
       "⋮  ⋮        \n",
       "9  41       \n",
       "10 46       \n",
       "11 51       "
      ]
     },
     "metadata": {},
     "output_type": "display_data"
    },
    {
     "data": {
      "text/html": [
       "<table>\n",
       "<caption>A tibble: 11 × 7</caption>\n",
       "<thead>\n",
       "\t<tr><th scope=col>neighbors</th><th scope=col>.metric</th><th scope=col>.estimator</th><th scope=col>mean</th><th scope=col>n</th><th scope=col>std_err</th><th scope=col>.config</th></tr>\n",
       "\t<tr><th scope=col>&lt;dbl&gt;</th><th scope=col>&lt;chr&gt;</th><th scope=col>&lt;chr&gt;</th><th scope=col>&lt;dbl&gt;</th><th scope=col>&lt;int&gt;</th><th scope=col>&lt;dbl&gt;</th><th scope=col>&lt;chr&gt;</th></tr>\n",
       "</thead>\n",
       "<tbody>\n",
       "\t<tr><td> 1</td><td>accuracy</td><td>binary</td><td>0.7952284</td><td>5</td><td>0.004320167</td><td>Model01</td></tr>\n",
       "\t<tr><td> 6</td><td>accuracy</td><td>binary</td><td>0.8258867</td><td>5</td><td>0.008179158</td><td>Model02</td></tr>\n",
       "\t<tr><td>11</td><td>accuracy</td><td>binary</td><td>0.8331234</td><td>5</td><td>0.007433621</td><td>Model03</td></tr>\n",
       "\t<tr><td>⋮</td><td>⋮</td><td>⋮</td><td>⋮</td><td>⋮</td><td>⋮</td><td>⋮</td></tr>\n",
       "\t<tr><td>41</td><td>accuracy</td><td>binary</td><td>0.8373824</td><td>5</td><td>0.006410991</td><td>Model09</td></tr>\n",
       "\t<tr><td>46</td><td>accuracy</td><td>binary</td><td>0.8365295</td><td>5</td><td>0.005499834</td><td>Model10</td></tr>\n",
       "\t<tr><td>51</td><td>accuracy</td><td>binary</td><td>0.8352556</td><td>5</td><td>0.006845129</td><td>Model11</td></tr>\n",
       "</tbody>\n",
       "</table>\n"
      ],
      "text/latex": [
       "A tibble: 11 × 7\n",
       "\\begin{tabular}{lllllll}\n",
       " neighbors & .metric & .estimator & mean & n & std\\_err & .config\\\\\n",
       " <dbl> & <chr> & <chr> & <dbl> & <int> & <dbl> & <chr>\\\\\n",
       "\\hline\n",
       "\t  1 & accuracy & binary & 0.7952284 & 5 & 0.004320167 & Model01\\\\\n",
       "\t  6 & accuracy & binary & 0.8258867 & 5 & 0.008179158 & Model02\\\\\n",
       "\t 11 & accuracy & binary & 0.8331234 & 5 & 0.007433621 & Model03\\\\\n",
       "\t ⋮ & ⋮ & ⋮ & ⋮ & ⋮ & ⋮ & ⋮\\\\\n",
       "\t 41 & accuracy & binary & 0.8373824 & 5 & 0.006410991 & Model09\\\\\n",
       "\t 46 & accuracy & binary & 0.8365295 & 5 & 0.005499834 & Model10\\\\\n",
       "\t 51 & accuracy & binary & 0.8352556 & 5 & 0.006845129 & Model11\\\\\n",
       "\\end{tabular}\n"
      ],
      "text/markdown": [
       "\n",
       "A tibble: 11 × 7\n",
       "\n",
       "| neighbors &lt;dbl&gt; | .metric &lt;chr&gt; | .estimator &lt;chr&gt; | mean &lt;dbl&gt; | n &lt;int&gt; | std_err &lt;dbl&gt; | .config &lt;chr&gt; |\n",
       "|---|---|---|---|---|---|---|\n",
       "|  1 | accuracy | binary | 0.7952284 | 5 | 0.004320167 | Model01 |\n",
       "|  6 | accuracy | binary | 0.8258867 | 5 | 0.008179158 | Model02 |\n",
       "| 11 | accuracy | binary | 0.8331234 | 5 | 0.007433621 | Model03 |\n",
       "| ⋮ | ⋮ | ⋮ | ⋮ | ⋮ | ⋮ | ⋮ |\n",
       "| 41 | accuracy | binary | 0.8373824 | 5 | 0.006410991 | Model09 |\n",
       "| 46 | accuracy | binary | 0.8365295 | 5 | 0.005499834 | Model10 |\n",
       "| 51 | accuracy | binary | 0.8352556 | 5 | 0.006845129 | Model11 |\n",
       "\n"
      ],
      "text/plain": [
       "   neighbors .metric  .estimator mean      n std_err     .config\n",
       "1   1        accuracy binary     0.7952284 5 0.004320167 Model01\n",
       "2   6        accuracy binary     0.8258867 5 0.008179158 Model02\n",
       "3  11        accuracy binary     0.8331234 5 0.007433621 Model03\n",
       "⋮  ⋮         ⋮        ⋮          ⋮         ⋮ ⋮           ⋮      \n",
       "9  41        accuracy binary     0.8373824 5 0.006410991 Model09\n",
       "10 46        accuracy binary     0.8365295 5 0.005499834 Model10\n",
       "11 51        accuracy binary     0.8352556 5 0.006845129 Model11"
      ]
     },
     "metadata": {},
     "output_type": "display_data"
    }
   ],
   "source": [
    "set.seed(1234)\n",
    "options(rear.plot.width = 10, repr.plot.width = 10)\n",
    "\n",
    "weather_recipe <- recipe(RainTomorrow ~ ., \n",
    "                              data = weather_train, na.rm = TRUE) %>%\n",
    "                        step_scale(all_predictors()) %>%\n",
    "                        step_center(all_predictors())\n",
    "weather_vfold <- vfold_cv(weather_train, v = 5, strata = RainTomorrow)\n",
    "\n",
    "knn_spec <- nearest_neighbor(weight_func = \"rectangular\", neighbors = tune()) %>%\n",
    "       set_engine(\"kknn\") %>%\n",
    "       set_mode(\"classification\")\n",
    "k_vals <- tibble(neighbors = seq(from = 1, to = 55, by = 5))\n",
    "knn_result <- workflow() %>%\n",
    "       add_recipe(weather_recipe) %>%\n",
    "       add_model(knn_spec) %>%\n",
    "       tune_grid(resamples = weather_vfold, grid = k_vals) %>%\n",
    "       collect_metrics() \n",
    "\n",
    "accuracies <- knn_result %>% \n",
    "       filter(.metric == \"accuracy\")\n",
    "\n",
    "k_vals\n",
    "accuracies"
   ]
  },
  {
   "cell_type": "code",
   "execution_count": 35,
   "metadata": {},
   "outputs": [
    {
     "data": {
      "image/png": "[encoded data removed]",
      "text/plain": [
       "plot without title"
      ]
     },
     "metadata": {
      "image/png": {
       "height": 420,
       "width": 600
      }
     },
     "output_type": "display_data"
    }
   ],
   "source": [
    "cross_val_plot <- ggplot(accuracies, aes(x = neighbors, y = mean))+\n",
    "       geom_point() +\n",
    "       geom_line() +\n",
    "       geom_vline(xintercept = 26,linetype = \"dashed\", size = 0.5) +\n",
    "       labs(x = \"Neighbors\", y = \"Accuracy Estimate\") +\n",
    "       scale_x_continuous(breaks = seq(0, 200, by = 5)) + \n",
    "       scale_y_continuous(limits = c(0.75, 0.9)) +\n",
    "       ggtitle(\"Figure 1: Predicting Best k Value\") +\n",
    "       theme(text = element_text(size = 18), plot.title = element_text(hjust = 0.5))\n",
    "\n",
    "cross_val_plot"
   ]
  },
  {
   "cell_type": "code",
   "execution_count": 34,
   "metadata": {},
   "outputs": [
    {
     "data": {
      "text/plain": [
       "══ Workflow [trained] ══════════════════════════════════════════════════════════\n",
       "\u001b[3mPreprocessor:\u001b[23m Recipe\n",
       "\u001b[3mModel:\u001b[23m nearest_neighbor()\n",
       "\n",
       "── Preprocessor ────────────────────────────────────────────────────────────────\n",
       "2 Recipe Steps\n",
       "\n",
       "● step_scale()\n",
       "● step_center()\n",
       "\n",
       "── Model ───────────────────────────────────────────────────────────────────────\n",
       "\n",
       "Call:\n",
       "kknn::train.kknn(formula = ..y ~ ., data = data, ks = ~26, kernel = ~\"rectangular\")\n",
       "\n",
       "Type of response variable: nominal\n",
       "Minimal misclassification: 0.1626224\n",
       "Best kernel: rectangular\n",
       "Best k: 26"
      ]
     },
     "metadata": {},
     "output_type": "display_data"
    }
   ],
   "source": [
    "weather_spec <- nearest_neighbor(weight_func = \"rectangular\", neighbors = 26) %>%\n",
    "       set_engine(\"kknn\") %>%\n",
    "       set_mode(\"classification\")\n",
    "\n",
    "weather_fit <- workflow() %>%\n",
    "          add_recipe(weather_recipe) %>%\n",
    "          add_model(weather_spec) %>%\n",
    "          fit(data = weather_train)\n",
    "\n",
    "weather_fit"
   ]
  },
  {
   "cell_type": "code",
   "execution_count": 27,
   "metadata": {},
   "outputs": [
    {
     "data": {
      "text/html": [
       "<table>\n",
       "<caption>A tibble: 2 × 3</caption>\n",
       "<thead>\n",
       "\t<tr><th scope=col>.metric</th><th scope=col>.estimator</th><th scope=col>.estimate</th></tr>\n",
       "\t<tr><th scope=col>&lt;chr&gt;</th><th scope=col>&lt;chr&gt;</th><th scope=col>&lt;dbl&gt;</th></tr>\n",
       "</thead>\n",
       "<tbody>\n",
       "\t<tr><td>accuracy</td><td>binary</td><td>0.8403576</td></tr>\n",
       "\t<tr><td>kap     </td><td>binary</td><td>0.5700731</td></tr>\n",
       "</tbody>\n",
       "</table>\n"
      ],
      "text/latex": [
       "A tibble: 2 × 3\n",
       "\\begin{tabular}{lll}\n",
       " .metric & .estimator & .estimate\\\\\n",
       " <chr> & <chr> & <dbl>\\\\\n",
       "\\hline\n",
       "\t accuracy & binary & 0.8403576\\\\\n",
       "\t kap      & binary & 0.5700731\\\\\n",
       "\\end{tabular}\n"
      ],
      "text/markdown": [
       "\n",
       "A tibble: 2 × 3\n",
       "\n",
       "| .metric &lt;chr&gt; | .estimator &lt;chr&gt; | .estimate &lt;dbl&gt; |\n",
       "|---|---|---|\n",
       "| accuracy | binary | 0.8403576 |\n",
       "| kap      | binary | 0.5700731 |\n",
       "\n"
      ],
      "text/plain": [
       "  .metric  .estimator .estimate\n",
       "1 accuracy binary     0.8403576\n",
       "2 kap      binary     0.5700731"
      ]
     },
     "metadata": {},
     "output_type": "display_data"
    }
   ],
   "source": [
    "weather_all_predicted <- predict(weather_fit, weather_test) %>%\n",
    "                         bind_cols(weather_test)\n",
    "weather_metrics <- weather_all_predicted %>%\n",
    "         metrics(truth = RainTomorrow, estimate = .pred_class)\n",
    "weather_metrics"
   ]
  },
  {
   "cell_type": "code",
   "execution_count": 29,
   "metadata": {},
   "outputs": [
    {
     "data": {
      "text/plain": [
       "          Truth\n",
       "Prediction  No Yes\n",
       "       No  528  75\n",
       "       Yes  50 130"
      ]
     },
     "metadata": {},
     "output_type": "display_data"
    }
   ],
   "source": [
    "weather_conf_mat <- weather_all_predicted %>%\n",
    "                    conf_mat(truth = RainTomorrow, estimate = .pred_class)\n",
    "weather_conf_mat"
   ]
  },
  {
   "cell_type": "code",
   "execution_count": null,
   "metadata": {},
   "outputs": [],
   "source": []
  }
 ],
 "metadata": {
  "kernelspec": {
   "display_name": "R",
   "language": "R",
   "name": "ir"
  },
  "language_info": {
   "codemirror_mode": "r",
   "file_extension": ".r",
   "mimetype": "text/x-r-source",
   "name": "R",
   "pygments_lexer": "r",
   "version": "4.0.0"
  }
 },
 "nbformat": 4,
 "nbformat_minor": 4
}
